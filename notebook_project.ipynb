{
 "cells": [
  {
   "cell_type": "markdown",
   "metadata": {},
   "source": [
    "## Projet connaissances et raisonnement"
   ]
  },
  {
   "cell_type": "markdown",
   "metadata": {},
   "source": [
    "## Modélisation du problème\n",
    "\n",
    "Nous voulons trouver **un créneau optimal** pour une réunion en fonction des disponibilités des participants.\n"
   ]
  },
  {
   "cell_type": "code",
   "execution_count": 9,
   "metadata": {},
   "outputs": [],
   "source": [
    "import os\n",
    "import csv\n",
    "from itertools import combinations\n",
    "\n",
    "# Configuration\n",
    "SCHEDULES_DIR = r\"schedules\"      # Dossier des emplois du temps\n",
    "DURATION = 15                  # Durée en minutes (15, 30, 45, 60)\n",
    "GOPHERSAT_PATH = r\"gophersat.exe\"  # chemin vers le solveur\n",
    "DEBUT_PAUSE = \"12:00\"\n",
    "FIN_PAUSE = \"14:00\""
   ]
  },
  {
   "cell_type": "markdown",
   "metadata": {},
   "source": [
    "## 1. Lecture des emplois du temps"
   ]
  },
  {
   "cell_type": "code",
   "execution_count": 10,
   "metadata": {},
   "outputs": [],
   "source": [
    "def lire_emplois_du_temps(dossier):\n",
    "    \"\"\"\n",
    "    Lit tous les fichiers CSV dans le dossier et retourne :\n",
    "      - emplois : un dictionnaire où chaque clé correspond à un participant et\n",
    "                  la valeur est un dictionnaire {jour: {horaire: statut}}\n",
    "                  Le statut vaut 0 si le participant est disponible, 1 sinon.\n",
    "      - jours : la liste des jours considérés\n",
    "      - horaires : la liste des horaires (extrait du header des CSV)\n",
    "    \"\"\"\n",
    "    fichiers = [f for f in os.listdir(dossier) if f.endswith(\".csv\")]\n",
    "    if not fichiers:\n",
    "        raise FileNotFoundError(\"Aucun fichier CSV trouvé dans le dossier\")\n",
    "\n",
    "    jours = [\"Lundi\", \"Mardi\", \"Mercredi\", \"Jeudi\", \"Vendredi\"]\n",
    "    emplois = {}  # clé : identifiant du participant, valeur : emploi du temps\n",
    "    horaires = None\n",
    "\n",
    "    for fichier in fichiers:\n",
    "        with open(os.path.join(dossier, fichier), 'r', encoding='utf-8') as f:\n",
    "            lecteur = csv.reader(f)\n",
    "            header = next(lecteur)\n",
    "            # La première colonne est \"Jour\", le reste sont les horaires\n",
    "            if horaires is None:\n",
    "                horaires = header[1:]\n",
    "            emploi = {}  # emploi du temps pour ce participant\n",
    "            for ligne in lecteur:\n",
    "                jour = ligne[0]\n",
    "                if jour not in jours:\n",
    "                    continue\n",
    "                # Pour chaque jour, créer un dictionnaire {horaire: statut}\n",
    "                emploi[jour] = {}\n",
    "                for i, statut in enumerate(ligne[1:]):\n",
    "                    # Convertir le statut en entier (0 pour libre, 1 pour occupé)\n",
    "                    emploi[jour][horaires[i]] = int(statut)\n",
    "            # On peut utiliser le nom du fichier comme identifiant du participant\n",
    "            emplois[fichier] = emploi\n",
    "\n",
    "    return emplois, jours, horaires"
   ]
  },
  {
   "cell_type": "markdown",
   "metadata": {},
   "source": [
    "## 2. Génération du fichier CNF"
   ]
  },
  {
   "cell_type": "code",
   "execution_count": 11,
   "metadata": {},
   "outputs": [],
   "source": [
    "def generer_fichier_cnf_complet(emplois, jours, horaires, duree):\n",
    "    \"\"\"\n",
    "    Génère un fichier CNF (au format DIMACS) pour la planification d'une réunion.\n",
    "    \n",
    "    Modélisation :\n",
    "      - Pour chaque participant p, jour d et horaire s, on définit une variable X_{p,d,s}.\n",
    "      - Pour chaque candidat de réunion (début de bloc) Y_{d,s}, pour s tel que le bloc de longueur m (duree//15)\n",
    "        tient dans la liste des horaires, on définit une variable Y_{d,s}.\n",
    "    \n",
    "    Contraintes :\n",
    "      1. Exactement un bloc de réunion est choisi (variable Y) :\n",
    "           - Au moins un bloc choisi.\n",
    "           - Pas deux blocs simultanément (exclusion mutuelle).\n",
    "      2. Lien entre Y et X :\n",
    "           Pour chaque candidat Y_{d,s} et pour chaque participant p,\n",
    "           et pour chaque créneau du bloc (s, s+1, ..., s+m-1), on impose :\n",
    "             Y_{d,s} -> X_{p,d,t}   (soit, en CNF : -Y_{d,s} v X_{p,d,t})\n",
    "      3. Disponibilité des participants :\n",
    "           Pour chaque participant p, jour d, horaire s, si le participant est occupé\n",
    "           (selon l'emploi du temps), alors X_{p,d,s} est forcé à faux.\n",
    "    \"\"\"\n",
    "    m = duree // 15  # Nombre de créneaux consécutifs requis\n",
    "\n",
    "    clauses = []\n",
    "    next_var = 1\n",
    "\n",
    "    # 1. Création des variables X : X_vars[(participant, jour, horaire)]\n",
    "    X_vars = {}\n",
    "    for participant in emplois:\n",
    "        for d in jours:\n",
    "            for t in horaires:\n",
    "                X_vars[(participant, d, t)] = next_var\n",
    "                next_var += 1\n",
    "\n",
    "    # 2. Création des variables Y : Y_vars[(jour, horaire_debut)]\n",
    "    Y_vars = {}\n",
    "    for d in jours:\n",
    "        # Seul les candidats qui permettent d'avoir m créneaux consécutifs\n",
    "        for i in range(len(horaires) - m + 1):\n",
    "            t_debut = horaires[i]\n",
    "            Y_vars[(d, t_debut)] = next_var\n",
    "            next_var += 1\n",
    "    \n",
    "\n",
    "    # ======================\n",
    "    # Contrainte (1) : Exactement un bloc réunion est choisi (variables Y)\n",
    "    # a) Au moins un bloc choisi :\n",
    "    clause = \" \".join(str(Y_vars[(d, t)]) for (d, t) in Y_vars) + \" 0\"\n",
    "    clauses.append(clause)\n",
    "    # b) Au plus un bloc choisi : pour chaque paire distincte, pas de double sélection\n",
    "    for (d1, t1), (d2, t2) in combinations(Y_vars.keys(), 2):\n",
    "        clauses.append(f\"-{Y_vars[(d1, t1)]} -{Y_vars[(d2, t2)]} 0\")\n",
    "\n",
    "    # ======================\n",
    "    # Contrainte (2) : Lien entre Y et X\n",
    "    # Si le bloc Y_{d,t_debut} est choisi, alors pour chaque participant et pour chaque créneau\n",
    "    # du bloc (de t_debut à t_debut+m-1), le participant doit être disponible (X_{p,d,t} doit être vrai)\n",
    "    for (d, t_debut) in Y_vars:\n",
    "        start_index = horaires.index(t_debut)\n",
    "        # On s'assure que le bloc s'étend sur m créneaux\n",
    "        for participant in emplois:\n",
    "            for j in range(m):\n",
    "                t = horaires[start_index + j]\n",
    "                # Clause: -Y_{d,t_debut} v X_{p,d,t}\n",
    "                clauses.append(f\"-{Y_vars[(d, t_debut)]} {X_vars[(participant, d, t)]} 0\")\n",
    "\n",
    "    # ======================\n",
    "    # Contrainte (3) : Disponibilité des participants (selon leur emploi du temps)\n",
    "    # Pour chaque participant, jour, horaire, si le participant est occupé (statut == 1)\n",
    "    # alors la variable X_{p,d,t} est forcée à faux\n",
    "    for participant, emploi in emplois.items():\n",
    "        for d in jours:\n",
    "            for t in horaires:\n",
    "                if emploi[d][t] == 1:\n",
    "                    # Le participant n'est pas disponible à ce créneau\n",
    "                    clauses.append(f\"-{X_vars[(participant, d, t)]} 0\")\n",
    "                    \n",
    "    # ======================\n",
    "    # Contrainte (4) : Interdiction des blocs traversant la pause de midi\n",
    "    for (d, t_debut) in Y_vars:\n",
    "        start_index = horaires.index(t_debut)\n",
    "        # Vérifier si le bloc dépasse la pause de midi\n",
    "        for j in range(m):\n",
    "            t = horaires[start_index + j]\n",
    "            if horaires[start_index] < DEBUT_PAUSE and t >= FIN_PAUSE:\n",
    "                clauses.append(f\"-{Y_vars[(d, t_debut)]} 0\")\n",
    "                break  # Pas besoin de vérifier les autres créneaux, le bloc est interdit\n",
    "\n",
    "    # ======================\n",
    "    # Écriture du fichier CNF\n",
    "    total_vars = next_var - 1\n",
    "    total_clauses = len(clauses)\n",
    "    with open(\"reunion.cnf\", \"w\") as f:\n",
    "        f.write(f\"p cnf {total_vars} {total_clauses}\\n\")\n",
    "        for clause in clauses:\n",
    "            f.write(clause + \"\\n\")\n",
    "\n",
    "    print(f\"Fichier CNF généré avec {total_vars} variables et {total_clauses} clauses.\")\n",
    "    return True, Y_vars"
   ]
  },
  {
   "cell_type": "markdown",
   "metadata": {},
   "source": [
    "## 3. Résolution et interprétation"
   ]
  },
  {
   "cell_type": "code",
   "execution_count": 12,
   "metadata": {},
   "outputs": [],
   "source": [
    "def resoudre_toutes_les_solutions(Y_vars):\n",
    "    solutions = []\n",
    "    \n",
    "    while True:\n",
    "        os.system(f\"{GOPHERSAT_PATH} reunion.cnf > resultat.txt\")\n",
    "\n",
    "        solution = []\n",
    "        with open(\"resultat.txt\", \"r\") as f:\n",
    "            for ligne in f:\n",
    "                if ligne.startswith(\"v \"):\n",
    "                    solution = list(map(int, ligne.strip().split()[1:-1]))\n",
    "\n",
    "        if not solution:\n",
    "            break\n",
    "\n",
    "        # Trouver les créneaux activés\n",
    "        reunion_cree = [var for var in solution if var > 0 and var in Y_vars.values()]\n",
    "\n",
    "        solutions.append(solution)\n",
    "\n",
    "        # Exclusion de la solution trouvée pour chercher la suivante\n",
    "    \n",
    "        with open(\"reunion.cnf\", \"a\") as f:\n",
    "            f.write(\" \".join(f\"-{var}\" for var in reunion_cree) + \" 0\\n\")\n",
    "\n",
    "    return  solutions\n"
   ]
  },
  {
   "cell_type": "code",
   "execution_count": 13,
   "metadata": {},
   "outputs": [],
   "source": [
    "def afficher_resultats_detailles(solutions, Y_vars, emplois, jours, horaires, duree):\n",
    "    if not solutions:\n",
    "        print(\"Aucune solution trouvée.\")\n",
    "        return\n",
    "\n",
    "    print(f\"\\n=== Créneaux possibles pour une réunion de {duree} minutes ===\\n\")\n",
    "    \n",
    "    for i, solution in enumerate(solutions, 1):\n",
    "        reunion_var = [var for var in solution if var > 0 and var in Y_vars.values()]\n",
    "        if not reunion_var:\n",
    "            continue\n",
    "            \n",
    "        for (jour, horaire), var in Y_vars.items():\n",
    "            if var in reunion_var:\n",
    "                m = duree // 15\n",
    "                start_index = horaires.index(horaire)\n",
    "                horaire_fin = horaires[start_index + m - 1]\n",
    "                h, min = map(int, horaire_fin.split(':'))\n",
    "                min += 15\n",
    "                if min >= 60:\n",
    "                    h += 1\n",
    "                    min -= 60\n",
    "                horaire_fin_reel = f\"{h:02d}:{min:02d}\"\n",
    "\n",
    "                print(f\"Option {i}: {jour} {horaire}-{horaire_fin_reel}\")\n",
    "                \n",
    "                tous_disponibles = True\n",
    "                indisponibles = []\n",
    "                for participant, emploi in emplois.items():\n",
    "                    if not all(emploi[jour].get(horaires[start_index + j], 0) == 0 for j in range(m)):\n",
    "                        tous_disponibles = False\n",
    "                        indisponibles.append(participant)\n",
    "                \n",
    "                if tous_disponibles:\n",
    "                    print(\"✅ Tous les participants sont disponibles\")\n",
    "                else:\n",
    "                    print(\"❌ Participants non disponibles:\", \", \".join(indisponibles))\n",
    "                print()\n",
    "                break"
   ]
  },
  {
   "cell_type": "markdown",
   "metadata": {},
   "source": [
    "## 4. Exécution principale"
   ]
  },
  {
   "cell_type": "code",
   "execution_count": 14,
   "metadata": {},
   "outputs": [
    {
     "name": "stdout",
     "output_type": "stream",
     "text": [
      "Créneaux occupés chargés\n",
      "Fichier CNF généré avec 600 variables et 7903 clauses.\n"
     ]
    }
   ],
   "source": [
    "emplois, jours, horaires = lire_emplois_du_temps(SCHEDULES_DIR)\n",
    "print(f\"Créneaux occupés chargés\")\n",
    "\n",
    "success, Y_vars = generer_fichier_cnf_complet(emplois, jours, horaires, DURATION)\n"
   ]
  },
  {
   "cell_type": "code",
   "execution_count": 15,
   "metadata": {},
   "outputs": [
    {
     "name": "stdout",
     "output_type": "stream",
     "text": [
      "\n",
      "=== Créneaux possibles pour une réunion de 15 minutes ===\n",
      "\n",
      "Option 1: Lundi 9:15-09:30\n",
      "✅ Tous les participants sont disponibles\n",
      "\n",
      "Option 2: Lundi 9:30-09:45\n",
      "✅ Tous les participants sont disponibles\n",
      "\n",
      "Option 3: Jeudi 10:00-10:15\n",
      "✅ Tous les participants sont disponibles\n",
      "\n",
      "Option 4: Vendredi 11:45-12:00\n",
      "✅ Tous les participants sont disponibles\n",
      "\n",
      "Option 5: Vendredi 14:00-14:15\n",
      "✅ Tous les participants sont disponibles\n",
      "\n",
      "Option 6: Vendredi 16:15-16:30\n",
      "✅ Tous les participants sont disponibles\n",
      "\n",
      "Option 7: Lundi 9:00-09:15\n",
      "✅ Tous les participants sont disponibles\n",
      "\n"
     ]
    }
   ],
   "source": [
    "if success:\n",
    "    solutions = resoudre_toutes_les_solutions(Y_vars)\n",
    "    afficher_resultats_detailles(solutions, Y_vars, emplois, jours, horaires, DURATION)\n",
    "else:\n",
    "    print(\"Erreur lors de la génération du fichier CNF.\")"
   ]
  }
 ],
 "metadata": {
  "kernelspec": {
   "display_name": "i2dl",
   "language": "python",
   "name": "python3"
  },
  "language_info": {
   "codemirror_mode": {
    "name": "ipython",
    "version": 3
   },
   "file_extension": ".py",
   "mimetype": "text/x-python",
   "name": "python",
   "nbconvert_exporter": "python",
   "pygments_lexer": "ipython3",
   "version": "3.10.11"
  }
 },
 "nbformat": 4,
 "nbformat_minor": 2
}
